{
 "cells": [
  {
   "cell_type": "code",
   "execution_count": 2,
   "metadata": {},
   "outputs": [],
   "source": [
    "from pyspark.sql import SparkSession\n",
    "from pyspark.sql.types import StructType, StructField, StringType, IntegerType"
   ]
  },
  {
   "cell_type": "code",
   "execution_count": 5,
   "metadata": {},
   "outputs": [
    {
     "name": "stderr",
     "output_type": "stream",
     "text": [
      "23/05/11 21:36:37 WARN Utils: Your hostname, sevmon resolves to a loopback address: 127.0.1.1; using 143.106.60.101 instead (on interface ens3)\n",
      "23/05/11 21:36:37 WARN Utils: Set SPARK_LOCAL_IP if you need to bind to another address\n",
      "Setting default log level to \"WARN\".\n",
      "To adjust logging level use sc.setLogLevel(newLevel). For SparkR, use setLogLevel(newLevel).\n",
      "23/05/11 21:36:39 WARN NativeCodeLoader: Unable to load native-hadoop library for your platform... using builtin-java classes where applicable\n"
     ]
    }
   ],
   "source": [
    "spark = SparkSession.builder.appName(\"SEV\").getOrCreate()"
   ]
  },
  {
   "cell_type": "code",
   "execution_count": 6,
   "metadata": {},
   "outputs": [
    {
     "ename": "AttributeError",
     "evalue": "'ellipsis' object has no attribute 'name'",
     "output_type": "error",
     "traceback": [
      "\u001b[0;31m---------------------------------------------------------------------------\u001b[0m",
      "\u001b[0;31mAttributeError\u001b[0m                            Traceback (most recent call last)",
      "Cell \u001b[0;32mIn[6], line 1\u001b[0m\n\u001b[0;32m----> 1\u001b[0m schema \u001b[39m=\u001b[39m StructType([\n\u001b[1;32m      2\u001b[0m     StructField(\u001b[39m\"\u001b[39;49m\u001b[39mcol1\u001b[39;49m\u001b[39m\"\u001b[39;49m, StringType(), \u001b[39mTrue\u001b[39;49;00m),\n\u001b[1;32m      3\u001b[0m     StructField(\u001b[39m\"\u001b[39;49m\u001b[39mcol2\u001b[39;49m\u001b[39m\"\u001b[39;49m, IntegerType(), \u001b[39mTrue\u001b[39;49;00m),\n\u001b[1;32m      4\u001b[0m     \u001b[39m.\u001b[39;49m\u001b[39m.\u001b[39;49m\u001b[39m.\u001b[39;49m\n\u001b[1;32m      5\u001b[0m ])\n",
      "File \u001b[0;32m~/miniconda3/lib/python3.10/site-packages/pyspark/sql/types.py:739\u001b[0m, in \u001b[0;36mStructType.__init__\u001b[0;34m(self, fields)\u001b[0m\n\u001b[1;32m    737\u001b[0m \u001b[39melse\u001b[39;00m:\n\u001b[1;32m    738\u001b[0m     \u001b[39mself\u001b[39m\u001b[39m.\u001b[39mfields \u001b[39m=\u001b[39m fields\n\u001b[0;32m--> 739\u001b[0m     \u001b[39mself\u001b[39m\u001b[39m.\u001b[39mnames \u001b[39m=\u001b[39m [f\u001b[39m.\u001b[39mname \u001b[39mfor\u001b[39;00m f \u001b[39min\u001b[39;00m fields]\n\u001b[1;32m    740\u001b[0m     \u001b[39massert\u001b[39;00m \u001b[39mall\u001b[39m(\n\u001b[1;32m    741\u001b[0m         \u001b[39misinstance\u001b[39m(f, StructField) \u001b[39mfor\u001b[39;00m f \u001b[39min\u001b[39;00m fields\n\u001b[1;32m    742\u001b[0m     ), \u001b[39m\"\u001b[39m\u001b[39mfields should be a list of StructField\u001b[39m\u001b[39m\"\u001b[39m\n\u001b[1;32m    743\u001b[0m \u001b[39m# Precalculated list of fields that need conversion with fromInternal/toInternal functions\u001b[39;00m\n",
      "File \u001b[0;32m~/miniconda3/lib/python3.10/site-packages/pyspark/sql/types.py:739\u001b[0m, in \u001b[0;36m<listcomp>\u001b[0;34m(.0)\u001b[0m\n\u001b[1;32m    737\u001b[0m \u001b[39melse\u001b[39;00m:\n\u001b[1;32m    738\u001b[0m     \u001b[39mself\u001b[39m\u001b[39m.\u001b[39mfields \u001b[39m=\u001b[39m fields\n\u001b[0;32m--> 739\u001b[0m     \u001b[39mself\u001b[39m\u001b[39m.\u001b[39mnames \u001b[39m=\u001b[39m [f\u001b[39m.\u001b[39;49mname \u001b[39mfor\u001b[39;00m f \u001b[39min\u001b[39;00m fields]\n\u001b[1;32m    740\u001b[0m     \u001b[39massert\u001b[39;00m \u001b[39mall\u001b[39m(\n\u001b[1;32m    741\u001b[0m         \u001b[39misinstance\u001b[39m(f, StructField) \u001b[39mfor\u001b[39;00m f \u001b[39min\u001b[39;00m fields\n\u001b[1;32m    742\u001b[0m     ), \u001b[39m\"\u001b[39m\u001b[39mfields should be a list of StructField\u001b[39m\u001b[39m\"\u001b[39m\n\u001b[1;32m    743\u001b[0m \u001b[39m# Precalculated list of fields that need conversion with fromInternal/toInternal functions\u001b[39;00m\n",
      "\u001b[0;31mAttributeError\u001b[0m: 'ellipsis' object has no attribute 'name'"
     ]
    }
   ],
   "source": [
    "schema = StructType([\n",
    "    StructField(\"col1\", StringType(), True),\n",
    "    StructField(\"col2\", IntegerType(), True),\n",
    "    ...\n",
    "])"
   ]
  },
  {
   "cell_type": "code",
   "execution_count": null,
   "metadata": {},
   "outputs": [
    {
     "ename": "NameError",
     "evalue": "name 'spark' is not defined",
     "output_type": "error",
     "traceback": [
      "\u001b[0;31m---------------------------------------------------------------------------\u001b[0m",
      "\u001b[0;31mNameError\u001b[0m                                 Traceback (most recent call last)",
      "Cell \u001b[0;32mIn[4], line 2\u001b[0m\n\u001b[1;32m      1\u001b[0m path \u001b[39m=\u001b[39m \u001b[39m\"\u001b[39m\u001b[39mhome/sevmon/2t/2t_ac/*.dat\u001b[39m\u001b[39m\"\u001b[39m\n\u001b[0;32m----> 2\u001b[0m df \u001b[39m=\u001b[39m spark\u001b[39m.\u001b[39mread \\\n\u001b[1;32m      3\u001b[0m          \u001b[39m.\u001b[39mformat(\u001b[39m\"\u001b[39m\u001b[39mcsv\u001b[39m\u001b[39m\"\u001b[39m) \\\n\u001b[1;32m      4\u001b[0m          \u001b[39m.\u001b[39moption(\u001b[39m\"\u001b[39m\u001b[39mheader\u001b[39m\u001b[39m\"\u001b[39m, \u001b[39m\"\u001b[39m\u001b[39mfalse\u001b[39m\u001b[39m\"\u001b[39m) \\\n\u001b[1;32m      5\u001b[0m          \u001b[39m.\u001b[39moption(\u001b[39m\"\u001b[39m\u001b[39mdelimiter\u001b[39m\u001b[39m\"\u001b[39m, \u001b[39m\"\u001b[39m\u001b[39m\\t\u001b[39;00m\u001b[39m\"\u001b[39m) \\\n\u001b[1;32m      6\u001b[0m          \u001b[39m.\u001b[39mschema(schema) \\\n\u001b[1;32m      7\u001b[0m          \u001b[39m.\u001b[39mload(path)\n",
      "\u001b[0;31mNameError\u001b[0m: name 'spark' is not defined"
     ]
    }
   ],
   "source": [
    "path = \"home/sevmon/2t/2t_ac/*.dat\"\n",
    "df = spark.read \\\n",
    "         .format(\"csv\") \\\n",
    "         .option(\"header\", \"false\") \\\n",
    "         .option(\"delimiter\", \"\\t\") \\\n",
    "         .schema(schema) \\\n",
    "         .load(path)\n"
   ]
  },
  {
   "cell_type": "code",
   "execution_count": null,
   "metadata": {},
   "outputs": [],
   "source": []
  }
 ],
 "metadata": {
  "kernelspec": {
   "display_name": "base",
   "language": "python",
   "name": "base"
  },
  "language_info": {
   "codemirror_mode": {
    "name": "ipython",
    "version": 3
   },
   "file_extension": ".py",
   "mimetype": "text/x-python",
   "name": "python",
   "nbconvert_exporter": "python",
   "pygments_lexer": "ipython3",
   "version": "3.10.10"
  },
  "orig_nbformat": 4
 },
 "nbformat": 4,
 "nbformat_minor": 2
}

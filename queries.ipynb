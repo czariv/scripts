{
 "cells": [
  {
   "cell_type": "code",
   "execution_count": 1,
   "metadata": {},
   "outputs": [],
   "source": [
    "import time\n",
    "from pyspark.sql import SparkSession\n",
    "from pyspark.sql.functions import col, desc"
   ]
  },
  {
   "cell_type": "code",
   "execution_count": 2,
   "metadata": {},
   "outputs": [
    {
     "name": "stderr",
     "output_type": "stream",
     "text": [
      "23/06/26 17:08:40 WARN Utils: Your hostname, sevmon resolves to a loopback address: 127.0.1.1; using 143.106.60.101 instead (on interface ens3)\n",
      "23/06/26 17:08:40 WARN Utils: Set SPARK_LOCAL_IP if you need to bind to another address\n",
      "Setting default log level to \"WARN\".\n",
      "To adjust logging level use sc.setLogLevel(newLevel). For SparkR, use setLogLevel(newLevel).\n",
      "23/06/26 17:08:44 WARN NativeCodeLoader: Unable to load native-hadoop library for your platform... using builtin-java classes where applicable\n"
     ]
    }
   ],
   "source": [
    "spark = SparkSession.builder.appName(\"Read Parquet File\").getOrCreate()"
   ]
  },
  {
   "cell_type": "code",
   "execution_count": 3,
   "metadata": {},
   "outputs": [
    {
     "name": "stderr",
     "output_type": "stream",
     "text": [
      "                                                                                \r"
     ]
    },
    {
     "data": {
      "text/plain": [
       "22.43993830680847"
      ]
     },
     "execution_count": 3,
     "metadata": {},
     "output_type": "execute_result"
    }
   ],
   "source": [
    "start_time = time.time()\n",
    "df = spark.read.parquet(\"/home/sevmon/2t/*/parquet\") #trocar o caminho por /home/sevmon/2t/*/parquet para um df com todas as regiões\n",
    "end_time = time.time()\n",
    "elapsed_time = end_time - start_time\n",
    "elapsed_time"
   ]
  },
  {
   "cell_type": "code",
   "execution_count": 4,
   "metadata": {},
   "outputs": [
    {
     "name": "stderr",
     "output_type": "stream",
     "text": [
      "[Stage 1:>                                                          (0 + 1) / 1]\r"
     ]
    },
    {
     "name": "stdout",
     "output_type": "stream",
     "text": [
      "+-------------------+---------+----------+---------+--------------------+\n",
      "|          timestamp|log_level|process_id|component|             message|\n",
      "+-------------------+---------+----------+---------+--------------------+\n",
      "|27/09/2022 16:39:22|     INFO|  67305985|     LOGD|In�cio das opera�...|\n",
      "|27/09/2022 16:39:22|     INFO|  67305985|     LOGD|Urna ligada em 27...|\n",
      "|27/09/2022 16:39:22|     INFO|  67305985|     SCUE|Iniciando aplica�...|\n",
      "|27/09/2022 16:39:22|     INFO|  67305985|     SCUE|Vers�o da aplica�...|\n",
      "|27/09/2022 16:39:25|     INFO|  67305985|     SCUE|Urna operando com...|\n",
      "|27/09/2022 16:39:25|     INFO|  67305985|     SCUE|Bateria interna c...|\n",
      "|27/09/2022 16:39:31|     INFO|  67305985|     SCUE|Tamanho da m�dia ...|\n",
      "|27/09/2022 16:39:34|     INFO|  67305985|     SCUE|Tamanho da mem�ri...|\n",
      "|27/09/2022 16:39:34|     INFO|  67305985|     SCUE|Verifica��o de as...|\n",
      "|27/09/2022 16:39:35|     INFO|  67305985|     SCUE|Verifica��o de as...|\n",
      "|27/09/2022 16:39:36|     INFO|  67305985|     SCUE|Verifica��o de as...|\n",
      "|27/09/2022 16:39:36|     INFO|  67305985|     SCUE|Verifica��o de as...|\n",
      "|27/09/2022 16:39:39|     INFO|  67305985|     SCUE|Verifica��o de as...|\n",
      "|27/09/2022 16:39:39|     INFO|  67305985|     SCUE|Verifica��o de as...|\n",
      "|27/09/2022 16:39:39|     INFO|  67305985|     SCUE|Verifica��o de as...|\n",
      "|27/09/2022 16:39:41|     INFO|  67305985|     SCUE|Verifica��o de as...|\n",
      "|27/09/2022 16:39:42|     INFO|  67305985|     SCUE|Verifica��o de as...|\n",
      "|27/09/2022 16:39:42|     INFO|  67305985|     SCUE|Verifica��o de as...|\n",
      "|27/09/2022 16:39:43|     INFO|  67305985|     SCUE|Verifica��o de as...|\n",
      "|27/09/2022 16:39:43|     INFO|  67305985|     SCUE|Verifica��o de as...|\n",
      "+-------------------+---------+----------+---------+--------------------+\n",
      "only showing top 20 rows\n",
      "\n"
     ]
    },
    {
     "name": "stderr",
     "output_type": "stream",
     "text": [
      "                                                                                \r"
     ]
    }
   ],
   "source": [
    "df.show()"
   ]
  },
  {
   "cell_type": "code",
   "execution_count": 5,
   "metadata": {},
   "outputs": [
    {
     "name": "stdout",
     "output_type": "stream",
     "text": [
      "+-------------------+---------+----------+-----------+--------------------+\n",
      "|          timestamp|log_level|process_id|  component|             message|\n",
      "+-------------------+---------+----------+-----------+--------------------+\n",
      "|30/10/2022 07:57:07|     ERRO|  67305985|       VOTA|Digitado t�tulo i...|\n",
      "|30/10/2022 07:58:45|     ERRO|  67305985|       VOTA|Digitado t�tulo i...|\n",
      "|30/10/2022 07:58:49|     ERRO|  67305985|       VOTA|Digitado t�tulo i...|\n",
      "|30/10/2022 17:07:16|     ERRO|  67305985|       VOTA|Digitado t�tulo i...|\n",
      "|02/10/2022 07:58:32|     ERRO|  67305985|       VOTA|Digitado t�tulo i...|\n",
      "|02/10/2022 07:58:39|     ERRO|  67305985|       VOTA|Digitado t�tulo i...|\n",
      "|02/10/2022 21:01:54|     ERRO|  67305985|       VOTA|Digitado t�tulo i...|\n",
      "|18/10/2022 09:37:43|     ERRO|  67305985|VERIFICADOR|St13runtime_error...|\n",
      "|02/10/2022 19:00:04|     ERRO|  67305985|       VOTA|Digitado t�tulo i...|\n",
      "|02/10/2022 21:19:07|     ERRO|  67305985|       VOTA|Digitado t�tulo i...|\n",
      "|02/10/2022 21:19:14|     ERRO|  67305985|       VOTA|Digitado t�tulo i...|\n",
      "|02/10/2022 21:20:16|     ERRO|  67305985|       VOTA|Digitado t�tulo i...|\n",
      "|30/10/2022 07:23:51|     ERRO|  67305985|       VOTA|Digitado t�tulo i...|\n",
      "|30/10/2022 17:00:43|     ERRO|  67305985|       VOTA|Digitado t�tulo i...|\n",
      "|30/10/2022 17:01:11|     ERRO|  67305985|       VOTA|Digitado t�tulo i...|\n",
      "|30/10/2022 17:01:14|     ERRO|  67305985|       VOTA|Digitado t�tulo i...|\n",
      "|30/10/2022 17:02:22|     ERRO|  67305985|       VOTA|Digitado t�tulo i...|\n",
      "|30/10/2022 17:02:31|     ERRO|  67305985|       VOTA|Digitado t�tulo i...|\n",
      "|30/10/2022 17:02:53|     ERRO|  67305985|       VOTA|Digitado t�tulo i...|\n",
      "|30/10/2022 17:03:01|     ERRO|  67305985|       VOTA|Digitado t�tulo i...|\n",
      "+-------------------+---------+----------+-----------+--------------------+\n",
      "only showing top 20 rows\n",
      "\n"
     ]
    }
   ],
   "source": [
    "result = df.filter(df[\"log_level\"] == \"ERRO\")\n",
    "result.show()"
   ]
  },
  {
   "cell_type": "code",
   "execution_count": 10,
   "metadata": {},
   "outputs": [
    {
     "name": "stderr",
     "output_type": "stream",
     "text": [
      "                                                                                \r"
     ]
    },
    {
     "data": {
      "text/plain": [
       "980.0592999458313"
      ]
     },
     "execution_count": 10,
     "metadata": {},
     "output_type": "execute_result"
    }
   ],
   "source": [
    "start_time = time.time()\n",
    "result.groupBy('message').count().orderBy(col(\"count\").desc()).write.csv(\"../analysis/tipos.csv\")\n",
    "end_time = time.time()\n",
    "elapsed_time = end_time - start_time\n",
    "elapsed_time"
   ]
  },
  {
   "cell_type": "code",
   "execution_count": null,
   "metadata": {},
   "outputs": [],
   "source": []
  }
 ],
 "metadata": {
  "kernelspec": {
   "display_name": "base",
   "language": "python",
   "name": "base"
  },
  "language_info": {
   "codemirror_mode": {
    "name": "ipython",
    "version": 3
   },
   "file_extension": ".py",
   "mimetype": "text/x-python",
   "name": "python",
   "nbconvert_exporter": "python",
   "pygments_lexer": "ipython3",
   "version": "3.10.10"
  },
  "orig_nbformat": 4
 },
 "nbformat": 4,
 "nbformat_minor": 2
}

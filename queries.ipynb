{
 "cells": [
  {
   "cell_type": "code",
   "execution_count": 1,
   "metadata": {},
   "outputs": [],
   "source": [
    "import time\n",
    "from pyspark.sql import SparkSession"
   ]
  },
  {
   "cell_type": "code",
   "execution_count": 2,
   "metadata": {},
   "outputs": [
    {
     "name": "stderr",
     "output_type": "stream",
     "text": [
      "23/06/03 19:52:53 WARN Utils: Your hostname, sevmon resolves to a loopback address: 127.0.1.1; using 143.106.60.101 instead (on interface ens3)\n",
      "23/06/03 19:52:53 WARN Utils: Set SPARK_LOCAL_IP if you need to bind to another address\n",
      "Setting default log level to \"WARN\".\n",
      "To adjust logging level use sc.setLogLevel(newLevel). For SparkR, use setLogLevel(newLevel).\n",
      "23/06/03 19:52:54 WARN NativeCodeLoader: Unable to load native-hadoop library for your platform... using builtin-java classes where applicable\n"
     ]
    }
   ],
   "source": [
    "spark = SparkSession.builder.appName(\"Read Parquet File\").getOrCreate()"
   ]
  },
  {
   "cell_type": "code",
   "execution_count": 3,
   "metadata": {},
   "outputs": [
    {
     "name": "stderr",
     "output_type": "stream",
     "text": [
      "                                                                                \r"
     ]
    }
   ],
   "source": [
    "start_time = time.time()\n",
    "df = spark.read.parquet(\"/home/sevmon/2t/2t_ac/parquet\") #trocar o caminho por /home/sevmon/2t/*/parquet para um df com todas as regiões\n",
    "end_time = time.time()\n",
    "elapsed_time = end_time - start_time\n",
    "elapsed_time"
   ]
  },
  {
   "cell_type": "code",
   "execution_count": null,
   "metadata": {},
   "outputs": [
    {
     "name": "stdout",
     "output_type": "stream",
     "text": [
      "+-------------------+---------+----------+---------+--------------------+\n",
      "|          timestamp|log_level|process_id|component|             message|\n",
      "+-------------------+---------+----------+---------+--------------------+\n",
      "|27/09/2022 16:39:22|     INFO|  67305985|     LOGD|In�cio das opera�...|\n",
      "|27/09/2022 16:39:22|     INFO|  67305985|     LOGD|Urna ligada em 27...|\n",
      "|27/09/2022 16:39:22|     INFO|  67305985|     SCUE|Iniciando aplica�...|\n",
      "|27/09/2022 16:39:22|     INFO|  67305985|     SCUE|Vers�o da aplica�...|\n",
      "|27/09/2022 16:39:25|     INFO|  67305985|     SCUE|Urna operando com...|\n",
      "|27/09/2022 16:39:25|     INFO|  67305985|     SCUE|Bateria interna c...|\n",
      "|27/09/2022 16:39:31|     INFO|  67305985|     SCUE|Tamanho da m�dia ...|\n",
      "|27/09/2022 16:39:34|     INFO|  67305985|     SCUE|Tamanho da mem�ri...|\n",
      "|27/09/2022 16:39:34|     INFO|  67305985|     SCUE|Verifica��o de as...|\n",
      "|27/09/2022 16:39:35|     INFO|  67305985|     SCUE|Verifica��o de as...|\n",
      "|27/09/2022 16:39:36|     INFO|  67305985|     SCUE|Verifica��o de as...|\n",
      "|27/09/2022 16:39:36|     INFO|  67305985|     SCUE|Verifica��o de as...|\n",
      "|27/09/2022 16:39:39|     INFO|  67305985|     SCUE|Verifica��o de as...|\n",
      "|27/09/2022 16:39:39|     INFO|  67305985|     SCUE|Verifica��o de as...|\n",
      "|27/09/2022 16:39:39|     INFO|  67305985|     SCUE|Verifica��o de as...|\n",
      "|27/09/2022 16:39:41|     INFO|  67305985|     SCUE|Verifica��o de as...|\n",
      "|27/09/2022 16:39:42|     INFO|  67305985|     SCUE|Verifica��o de as...|\n",
      "|27/09/2022 16:39:42|     INFO|  67305985|     SCUE|Verifica��o de as...|\n",
      "|27/09/2022 16:39:43|     INFO|  67305985|     SCUE|Verifica��o de as...|\n",
      "|27/09/2022 16:39:43|     INFO|  67305985|     SCUE|Verifica��o de as...|\n",
      "+-------------------+---------+----------+---------+--------------------+\n",
      "only showing top 20 rows\n",
      "\n"
     ]
    }
   ],
   "source": [
    "df.show()"
   ]
  },
  {
   "cell_type": "code",
   "execution_count": 5,
   "metadata": {},
   "outputs": [
    {
     "name": "stderr",
     "output_type": "stream",
     "text": [
      "                                                                                \r"
     ]
    },
    {
     "data": {
      "text/plain": [
       "2.677248477935791"
      ]
     },
     "execution_count": 5,
     "metadata": {},
     "output_type": "execute_result"
    }
   ],
   "source": [
    "start_time = time.time()\n",
    "x = df.count()\n",
    "end_time = time.time()\n",
    "elapsed_time = end_time - start_time\n",
    "elapsed_time"
   ]
  },
  {
   "cell_type": "code",
   "execution_count": 7,
   "metadata": {},
   "outputs": [
    {
     "name": "stdout",
     "output_type": "stream",
     "text": [
      "+-------------------+---------+----------+---------+--------------------+\n",
      "|          timestamp|log_level|process_id|component|             message|\n",
      "+-------------------+---------+----------+---------+--------------------+\n",
      "|21/09/2022 15:17:21|   ALERTA|  67305985|      GAP|    Urna n�o testada|\n",
      "|02/10/2022 06:10:51|     ERRO|  67305985|     VOTA|Digitado t�tulo i...|\n",
      "|02/10/2022 06:11:11|     ERRO|  67305985|     VOTA|Digitado t�tulo i...|\n",
      "|02/10/2022 06:15:08|   ALERTA|  67305985|     VOTA|Habilita��o cance...|\n",
      "|02/10/2022 06:16:23|   ALERTA|  67305985|     VOTA|Habilita��o cance...|\n",
      "|02/10/2022 06:17:48|   ALERTA|  67305985|     VOTA|Habilita��o cance...|\n",
      "|02/10/2022 06:20:01|   ALERTA|  67305985|     VOTA|Habilita��o cance...|\n",
      "|02/10/2022 06:22:31|   ALERTA|  67305985|     VOTA|Habilita��o cance...|\n",
      "|02/10/2022 07:53:08|   ALERTA|  67305985|     VOTA|O eleitor identif...|\n",
      "|02/10/2022 09:02:30|   ALERTA|  67305985|     VOTA|     T�tulo inv�lido|\n",
      "|02/10/2022 13:28:08|   ALERTA|  67305985|     VOTA|     T�tulo inv�lido|\n",
      "|02/10/2022 13:47:15|   ALERTA|  67305985|     VOTA|     T�tulo inv�lido|\n",
      "|02/10/2022 15:02:27|   ALERTA|  67305985|     VOTA|     T�tulo inv�lido|\n",
      "|02/10/2022 15:40:08|   ALERTA|  67305985|     VOTA|     T�tulo inv�lido|\n",
      "|24/10/2022 15:04:47|   ALERTA|  67305985|      GAP|    Urna n�o testada|\n",
      "|30/10/2022 10:13:21|   ALERTA|  67305985|     VOTA|     T�tulo inv�lido|\n",
      "|30/10/2022 13:00:05|   ALERTA|  67305985|     VOTA|     T�tulo inv�lido|\n",
      "|30/10/2022 15:04:18|     ERRO|  67305985|     VOTA|Digitado t�tulo i...|\n",
      "|30/10/2022 15:04:34|     ERRO|  67305985|     VOTA|Digitado t�tulo i...|\n",
      "|30/10/2022 15:06:46|     ERRO|  67305985|     VOTA|Digitado t�tulo i...|\n",
      "+-------------------+---------+----------+---------+--------------------+\n",
      "only showing top 20 rows\n",
      "\n"
     ]
    },
    {
     "name": "stderr",
     "output_type": "stream",
     "text": [
      "                                                                                \r"
     ]
    }
   ],
   "source": [
    "result = df.filter(df[\"log_level\"] != \"INFO\")\n",
    "result.show()"
   ]
  },
  {
   "cell_type": "code",
   "execution_count": null,
   "metadata": {},
   "outputs": [],
   "source": [
    "result = df.filter(df[\"log_level\"] != \"INFO\")\n",
    "result.show()"
   ]
  }
 ],
 "metadata": {
  "kernelspec": {
   "display_name": "base",
   "language": "python",
   "name": "base"
  },
  "language_info": {
   "codemirror_mode": {
    "name": "ipython",
    "version": 3
   },
   "file_extension": ".py",
   "mimetype": "text/x-python",
   "name": "python",
   "nbconvert_exporter": "python",
   "pygments_lexer": "ipython3",
   "version": "3.10.10"
  },
  "orig_nbformat": 4
 },
 "nbformat": 4,
 "nbformat_minor": 2
}

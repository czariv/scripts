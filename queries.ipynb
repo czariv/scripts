{
 "cells": [
  {
   "cell_type": "code",
   "execution_count": 1,
   "metadata": {},
   "outputs": [],
   "source": [
    "import time\n",
    "from pyspark.sql import SparkSession\n",
    "from pyspark.sql.functions import col, desc"
   ]
  },
  {
   "cell_type": "code",
   "execution_count": 2,
   "metadata": {},
   "outputs": [
    {
     "name": "stderr",
     "output_type": "stream",
     "text": [
      "23/06/30 03:26:53 WARN Utils: Your hostname, sevmon resolves to a loopback address: 127.0.1.1; using 143.106.60.101 instead (on interface ens3)\n",
      "23/06/30 03:26:53 WARN Utils: Set SPARK_LOCAL_IP if you need to bind to another address\n",
      "Setting default log level to \"WARN\".\n",
      "To adjust logging level use sc.setLogLevel(newLevel). For SparkR, use setLogLevel(newLevel).\n",
      "23/06/30 03:26:54 WARN NativeCodeLoader: Unable to load native-hadoop library for your platform... using builtin-java classes where applicable\n",
      "23/06/30 03:26:56 WARN Utils: Service 'SparkUI' could not bind on port 4040. Attempting port 4041.\n"
     ]
    }
   ],
   "source": [
    "spark = SparkSession.builder.appName(\"Read Parquet File\").getOrCreate()"
   ]
  },
  {
   "cell_type": "code",
   "execution_count": 4,
   "metadata": {},
   "outputs": [
    {
     "name": "stderr",
     "output_type": "stream",
     "text": [
      "                                                                                \r"
     ]
    },
    {
     "data": {
      "text/plain": [
       "106.81632828712463"
      ]
     },
     "execution_count": 4,
     "metadata": {},
     "output_type": "execute_result"
    }
   ],
   "source": [
    "start_time = time.time()\n",
    "df = spark.read.parquet(\"/home/sevmon/data/o00407-6101801570039\") #trocar o caminho por /home/sevmon/2t/*/parquet para um df com todas as regiões\n",
    "end_time = time.time()\n",
    "elapsed_time = end_time - start_time\n",
    "elapsed_time"
   ]
  },
  {
   "cell_type": "code",
   "execution_count": 5,
   "metadata": {},
   "outputs": [
    {
     "name": "stderr",
     "output_type": "stream",
     "text": [
      "                                                                                \r"
     ]
    },
    {
     "name": "stdout",
     "output_type": "stream",
     "text": [
      "+----------+---+-----+---+-------+---+-------------------+----+--------------------+----------------+--------------------+\n",
      "|      nome| uf|  cid|zid|    uid|sid|               data| app|              motivo|            code|           file_path|\n",
      "+----------+---+-----+---+-------+---+-------------------+----+--------------------+----------------+--------------------+\n",
      "|ADAMANTINA| SP|61018|157|2137196| 39|25/09/2022 10:28:36|LOGD|In�cio das opera�...|DDBD5A1058125215|/home/sevmon/2t/2...|\n",
      "|ADAMANTINA| SP|61018|157|2137196| 39|25/09/2022 10:28:36|LOGD|Urna ligada em 25...|862A5B0DFFE150AF|/home/sevmon/2t/2...|\n",
      "|ADAMANTINA| SP|61018|157|2137196| 39|25/09/2022 10:28:36|SCUE|Iniciando aplica�...|4531F2BFCC2FDC01|/home/sevmon/2t/2...|\n",
      "|ADAMANTINA| SP|61018|157|2137196| 39|25/09/2022 10:28:36|SCUE|Vers�o da aplica�...|996B2E565A3483A7|/home/sevmon/2t/2...|\n",
      "|ADAMANTINA| SP|61018|157|2137196| 39|25/09/2022 10:28:38|SCUE|Urna operando com...|A0A612C3795CD740|/home/sevmon/2t/2...|\n",
      "|ADAMANTINA| SP|61018|157|2137196| 39|25/09/2022 10:28:38|SCUE|Bateria interna c...|A9A33743299EDFC8|/home/sevmon/2t/2...|\n",
      "|ADAMANTINA| SP|61018|157|2137196| 39|25/09/2022 10:28:44|SCUE|Tamanho da m�dia ...|F27EE3B4C4EAE3D0|/home/sevmon/2t/2...|\n",
      "|ADAMANTINA| SP|61018|157|2137196| 39|25/09/2022 10:28:47|SCUE|Tamanho da mem�ri...|03CEE1FA8A51E25F|/home/sevmon/2t/2...|\n",
      "|ADAMANTINA| SP|61018|157|2137196| 39|25/09/2022 10:28:47|SCUE|Verifica��o de as...|6F9276EE885C336C|/home/sevmon/2t/2...|\n",
      "|ADAMANTINA| SP|61018|157|2137196| 39|25/09/2022 10:28:47|SCUE|Verifica��o de as...|B395F0404CD8718C|/home/sevmon/2t/2...|\n",
      "|ADAMANTINA| SP|61018|157|2137196| 39|25/09/2022 10:28:47|SCUE|Verifica��o de as...|1A9BD6D546D678DD|/home/sevmon/2t/2...|\n",
      "|ADAMANTINA| SP|61018|157|2137196| 39|25/09/2022 10:28:48|SCUE|Verifica��o de as...|2C133BBF2FC2127F|/home/sevmon/2t/2...|\n",
      "|ADAMANTINA| SP|61018|157|2137196| 39|25/09/2022 10:28:48|SCUE|Verifica��o de as...|0715E33434378593|/home/sevmon/2t/2...|\n",
      "|ADAMANTINA| SP|61018|157|2137196| 39|25/09/2022 10:28:48|SCUE|Verifica��o de as...|8B38542828C0B5A4|/home/sevmon/2t/2...|\n",
      "|ADAMANTINA| SP|61018|157|2137196| 39|25/09/2022 10:28:48|SCUE|Verifica��o de as...|9DADD7EF4A482D1C|/home/sevmon/2t/2...|\n",
      "|ADAMANTINA| SP|61018|157|2137196| 39|25/09/2022 10:28:48|SCUE|Verifica��o de as...|54F2146A8031798D|/home/sevmon/2t/2...|\n",
      "|ADAMANTINA| SP|61018|157|2137196| 39|25/09/2022 10:28:49|SCUE|Verifica��o de as...|FA60902761A82E56|/home/sevmon/2t/2...|\n",
      "|ADAMANTINA| SP|61018|157|2137196| 39|25/09/2022 10:28:49|SCUE|Verifica��o de as...|FDC84B6D6FCCCB89|/home/sevmon/2t/2...|\n",
      "|ADAMANTINA| SP|61018|157|2137196| 39|25/09/2022 10:28:49|SCUE|Verifica��o de as...|452626270F5BAA16|/home/sevmon/2t/2...|\n",
      "|ADAMANTINA| SP|61018|157|2137196| 39|25/09/2022 10:28:49|SCUE|Verifica��o de as...|3C303FF6EC653A32|/home/sevmon/2t/2...|\n",
      "+----------+---+-----+---+-------+---+-------------------+----+--------------------+----------------+--------------------+\n",
      "only showing top 20 rows\n",
      "\n"
     ]
    }
   ],
   "source": [
    "df.show()"
   ]
  },
  {
   "cell_type": "code",
   "execution_count": 6,
   "metadata": {},
   "outputs": [
    {
     "ename": "AnalysisException",
     "evalue": "[UNRESOLVED_COLUMN.WITH_SUGGESTION] A column or function parameter with name `log_level` cannot be resolved. Did you mean one of the following? [`nome`, `uf`, `cid`, `zid`, `uid`, `sid`, `data`, `app`, `motivo`, `code`, `file_path`].",
     "output_type": "error",
     "traceback": [
      "\u001b[0;31m---------------------------------------------------------------------------\u001b[0m",
      "\u001b[0;31mAnalysisException\u001b[0m                         Traceback (most recent call last)",
      "Cell \u001b[0;32mIn[6], line 1\u001b[0m\n\u001b[0;32m----> 1\u001b[0m result \u001b[39m=\u001b[39m df\u001b[39m.\u001b[39mfilter(df[\u001b[39m\"\u001b[39;49m\u001b[39mlog_level\u001b[39;49m\u001b[39m\"\u001b[39;49m] \u001b[39m==\u001b[39m \u001b[39m\"\u001b[39m\u001b[39mERRO\u001b[39m\u001b[39m\"\u001b[39m)\n\u001b[1;32m      2\u001b[0m result\u001b[39m.\u001b[39mshow()\n",
      "File \u001b[0;32m~/miniconda3/lib/python3.10/site-packages/pyspark/sql/dataframe.py:2928\u001b[0m, in \u001b[0;36mDataFrame.__getitem__\u001b[0;34m(self, item)\u001b[0m\n\u001b[1;32m   2856\u001b[0m \u001b[39m\u001b[39m\u001b[39m\"\"\"Returns the column as a :class:`Column`.\u001b[39;00m\n\u001b[1;32m   2857\u001b[0m \n\u001b[1;32m   2858\u001b[0m \u001b[39m.. versionadded:: 1.3.0\u001b[39;00m\n\u001b[0;32m   (...)\u001b[0m\n\u001b[1;32m   2925\u001b[0m \u001b[39m+---+----+\u001b[39;00m\n\u001b[1;32m   2926\u001b[0m \u001b[39m\"\"\"\u001b[39;00m\n\u001b[1;32m   2927\u001b[0m \u001b[39mif\u001b[39;00m \u001b[39misinstance\u001b[39m(item, \u001b[39mstr\u001b[39m):\n\u001b[0;32m-> 2928\u001b[0m     jc \u001b[39m=\u001b[39m \u001b[39mself\u001b[39;49m\u001b[39m.\u001b[39;49m_jdf\u001b[39m.\u001b[39;49mapply(item)\n\u001b[1;32m   2929\u001b[0m     \u001b[39mreturn\u001b[39;00m Column(jc)\n\u001b[1;32m   2930\u001b[0m \u001b[39melif\u001b[39;00m \u001b[39misinstance\u001b[39m(item, Column):\n",
      "File \u001b[0;32m~/miniconda3/lib/python3.10/site-packages/py4j/java_gateway.py:1322\u001b[0m, in \u001b[0;36mJavaMember.__call__\u001b[0;34m(self, *args)\u001b[0m\n\u001b[1;32m   1316\u001b[0m command \u001b[39m=\u001b[39m proto\u001b[39m.\u001b[39mCALL_COMMAND_NAME \u001b[39m+\u001b[39m\\\n\u001b[1;32m   1317\u001b[0m     \u001b[39mself\u001b[39m\u001b[39m.\u001b[39mcommand_header \u001b[39m+\u001b[39m\\\n\u001b[1;32m   1318\u001b[0m     args_command \u001b[39m+\u001b[39m\\\n\u001b[1;32m   1319\u001b[0m     proto\u001b[39m.\u001b[39mEND_COMMAND_PART\n\u001b[1;32m   1321\u001b[0m answer \u001b[39m=\u001b[39m \u001b[39mself\u001b[39m\u001b[39m.\u001b[39mgateway_client\u001b[39m.\u001b[39msend_command(command)\n\u001b[0;32m-> 1322\u001b[0m return_value \u001b[39m=\u001b[39m get_return_value(\n\u001b[1;32m   1323\u001b[0m     answer, \u001b[39mself\u001b[39;49m\u001b[39m.\u001b[39;49mgateway_client, \u001b[39mself\u001b[39;49m\u001b[39m.\u001b[39;49mtarget_id, \u001b[39mself\u001b[39;49m\u001b[39m.\u001b[39;49mname)\n\u001b[1;32m   1325\u001b[0m \u001b[39mfor\u001b[39;00m temp_arg \u001b[39min\u001b[39;00m temp_args:\n\u001b[1;32m   1326\u001b[0m     \u001b[39mif\u001b[39;00m \u001b[39mhasattr\u001b[39m(temp_arg, \u001b[39m\"\u001b[39m\u001b[39m_detach\u001b[39m\u001b[39m\"\u001b[39m):\n",
      "File \u001b[0;32m~/miniconda3/lib/python3.10/site-packages/pyspark/errors/exceptions/captured.py:175\u001b[0m, in \u001b[0;36mcapture_sql_exception.<locals>.deco\u001b[0;34m(*a, **kw)\u001b[0m\n\u001b[1;32m    171\u001b[0m converted \u001b[39m=\u001b[39m convert_exception(e\u001b[39m.\u001b[39mjava_exception)\n\u001b[1;32m    172\u001b[0m \u001b[39mif\u001b[39;00m \u001b[39mnot\u001b[39;00m \u001b[39misinstance\u001b[39m(converted, UnknownException):\n\u001b[1;32m    173\u001b[0m     \u001b[39m# Hide where the exception came from that shows a non-Pythonic\u001b[39;00m\n\u001b[1;32m    174\u001b[0m     \u001b[39m# JVM exception message.\u001b[39;00m\n\u001b[0;32m--> 175\u001b[0m     \u001b[39mraise\u001b[39;00m converted \u001b[39mfrom\u001b[39;00m \u001b[39mNone\u001b[39;00m\n\u001b[1;32m    176\u001b[0m \u001b[39melse\u001b[39;00m:\n\u001b[1;32m    177\u001b[0m     \u001b[39mraise\u001b[39;00m\n",
      "\u001b[0;31mAnalysisException\u001b[0m: [UNRESOLVED_COLUMN.WITH_SUGGESTION] A column or function parameter with name `log_level` cannot be resolved. Did you mean one of the following? [`nome`, `uf`, `cid`, `zid`, `uid`, `sid`, `data`, `app`, `motivo`, `code`, `file_path`]."
     ]
    }
   ],
   "source": [
    "result = df.filter(df[\"mensagem\"] == \"ERRO\")\n",
    "result.show()"
   ]
  },
  {
   "cell_type": "code",
   "execution_count": 10,
   "metadata": {},
   "outputs": [
    {
     "name": "stderr",
     "output_type": "stream",
     "text": [
      "                                                                                \r"
     ]
    },
    {
     "data": {
      "text/plain": [
       "980.0592999458313"
      ]
     },
     "execution_count": 10,
     "metadata": {},
     "output_type": "execute_result"
    }
   ],
   "source": [
    "start_time = time.time()\n",
    "result.groupBy('motivo').count().orderBy(col(\"count\").desc()).write.csv(\"../analysis/tipos.csv\")\n",
    "end_time = time.time()\n",
    "elapsed_time = end_time - start_time\n",
    "elapsed_time"
   ]
  },
  {
   "cell_type": "code",
   "execution_count": null,
   "metadata": {},
   "outputs": [],
   "source": []
  }
 ],
 "metadata": {
  "kernelspec": {
   "display_name": "base",
   "language": "python",
   "name": "base"
  },
  "language_info": {
   "codemirror_mode": {
    "name": "ipython",
    "version": 3
   },
   "file_extension": ".py",
   "mimetype": "text/x-python",
   "name": "python",
   "nbconvert_exporter": "python",
   "pygments_lexer": "ipython3",
   "version": "3.10.10"
  },
  "orig_nbformat": 4
 },
 "nbformat": 4,
 "nbformat_minor": 2
}
